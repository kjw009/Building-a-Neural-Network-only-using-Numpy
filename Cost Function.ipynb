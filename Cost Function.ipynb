{
 "cells": [
  {
   "cell_type": "markdown",
   "metadata": {},
   "source": [
    "## Cost Function \n",
    "\n",
    "After a forward propagation step, the neural network will need to calculate the error of the predicted values with respects to the labels. This error will be used to adjust the weights and biases of the neurons to produce more accurate predictions.\n",
    "\n",
    "The cost function used in this project will be the catergorical cross-entropy. Below is the class to calculate error using catergorical cross entropy."
   ]
  },
  {
   "cell_type": "markdown",
   "metadata": {},
   "source": [
    "![catergorical cross entropy equation](http://androidkt.com/wp-content/uploads/2021/05/Selection_098.png)"
   ]
  },
  {
   "cell_type": "code",
   "execution_count": 39,
   "metadata": {},
   "outputs": [],
   "source": [
    "# Class to calculate error of an output\n",
    "class Cost:\n",
    "# Takes in the output layer values and the correct labels for the samples\n",
    "    def calculate(self, output, y):\n",
    "        # Calculate the losses for the corresponding sample in the set\n",
    "        costs = self.forward(output, y)\n",
    "        # Calculate mean loss in the sample\n",
    "        mean_cost = np.mean(costs)\n",
    "        # Return loss\n",
    "        return mean_cost\n",
    "\n",
    "# Catergorical cross entropy class that will inherit the base Cost class\n",
    "class CategoricalCrossEntropy(Cost):\n",
    "# Calculate the error using the predicted values from the output and \n",
    "# its corrresponding labels\n",
    "    def forward(self, y_pred, y_true):\n",
    "        samples = len(y_pred)\n",
    "         # Clip the predicted values to prevent error caused by inf\n",
    "        y_pred_clipped = np.clip(y_pred, 1e-7, 1 - 1e-7)\n",
    "        # If the y_true are scalar values else use one-hot encoded labels\n",
    "        if len(y_true.shape) == 1:\n",
    "        # Retrieve the highest probability from each sample output from y_pred\n",
    "            confidences = y_pred_clipped[range(samples), y_true]\n",
    "        elif len(y_true.shape) == 2:\n",
    "            confidences = np.sum(y_pred_clipped * y_true, axis=1)\n",
    "        \n",
    "        # Calculate negative log of the confidences and return the value\n",
    "        negative_log_confidences = -np.log(confidences)\n",
    "        return negative_log_confidences"
   ]
  },
  {
   "cell_type": "markdown",
   "metadata": {},
   "source": [
    "The classes will be tested using a spiral data. This will be imported along with the classes needed for forward propagation."
   ]
  },
  {
   "cell_type": "code",
   "execution_count": 40,
   "metadata": {},
   "outputs": [
    {
     "name": "stdout",
     "output_type": "stream",
     "text": [
      "Cost: 1.0986127730784156\n"
     ]
    }
   ],
   "source": [
    "# Import numpy for array handling\n",
    "import numpy as np\n",
    "\n",
    "# Import forward propagation classes and spiral data function\n",
    "from forwardpropagationclasses import *\n",
    "from spiraldata import spiral_data\n",
    "\n",
    "# Create a output layer to produce values to test the above classes\n",
    "X, y = spiral_data(100, 3)\n",
    "hidden_layer = LayerDense(2, 3)\n",
    "ReLU = ActivationReLU()\n",
    "output_layer = LayerDense(3, 3)\n",
    "softmax = ActivationSoftmax()\n",
    "hidden_layer.forward(X)\n",
    "ReLU.activate(hidden_layer.output)\n",
    "output_layer.forward(ReLU.output)\n",
    "softmax.activate(output_layer.output)\n",
    "\n",
    "# Create an instance of the CatergoricalCrossEntropy class\n",
    "cost_function = CategoricalCrossEntropy()\n",
    "# Parse the outer layer values and labels of the samples as arguments\n",
    "cost = cost_function.calculate(softmax.output, y)\n",
    "\n",
    "# Print cost value\n",
    "print('Cost:', loss)"
   ]
  },
  {
   "cell_type": "markdown",
   "metadata": {},
   "source": [
    "As expected the cost is high as the model is random."
   ]
  }
 ],
 "metadata": {
  "kernelspec": {
   "display_name": "Python 3",
   "language": "python",
   "name": "python3"
  },
  "language_info": {
   "codemirror_mode": {
    "name": "ipython",
    "version": 3
   },
   "file_extension": ".py",
   "mimetype": "text/x-python",
   "name": "python",
   "nbconvert_exporter": "python",
   "pygments_lexer": "ipython3",
   "version": "3.8.5"
  }
 },
 "nbformat": 4,
 "nbformat_minor": 4
}
