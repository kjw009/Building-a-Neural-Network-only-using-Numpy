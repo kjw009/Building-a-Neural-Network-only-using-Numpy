{
 "cells": [
  {
   "cell_type": "markdown",
   "metadata": {},
   "source": [
    "# MNIST FASHION \n",
    "\n",
    "Fashion-MNIST is a dataset of Zalando's article images—consisting of a training set of 60,000 examples and a test set of 10,000 examples. Each example is a 28x28 grayscale image, associated with a label from 10 classes. Zalando intends Fashion-MNIST to serve as a direct drop-in replacement for the original MNIST dataset for benchmarking machine learning algorithms. It shares the same image size and structure of training and testing splits.\n",
    "\n",
    "Each image is 28 pixels in height and 28 pixels in width, for a total of 784 pixels in total. Each pixel has a single pixel-value associated with it, indicating the lightness or darkness of that pixel, with higher numbers meaning darker. This pixel-value is an integer between 0 and 255. The training and test data sets have 785 columns. The first column consists of the class labels, and represents the article of clothing. The rest of the columns contain the pixel-values of the associated image."
   ]
  },
  {
   "cell_type": "code",
   "execution_count": 6,
   "metadata": {},
   "outputs": [],
   "source": [
    "# Import relevant modules for training the dataset\n",
    "import pandas as pd\n",
    "import matplotlib.pyplot as plt\n",
    "import numpy as np\n",
    "\n",
    "# Read training set using pandas\n",
    "df = pd.read_csv('fashion-mnist_train.csv')"
   ]
  },
  {
   "cell_type": "code",
   "execution_count": 7,
   "metadata": {},
   "outputs": [
    {
     "data": {
      "image/png": "[encoded data removed]",
      "text/plain": [
       "<Figure size 640x480 with 1 Axes>"
      ]
     },
     "metadata": {},
     "output_type": "display_data"
    }
   ],
   "source": [
    "# Function to plot a random sample from a dataset\n",
    "def plot_sample(dataset):\n",
    "    # Gather sample\n",
    "    sample = [dataset.iloc[np.random.randint(728), 1:]]\n",
    "    # Convert to numpy array and reshape it into a 28x28 matrix\n",
    "    sample = np.array([sample])\n",
    "    sample = sample.reshape((28,28))\n",
    "    # Plot the sample\n",
    "    plt.gray()\n",
    "    plt.imshow(sample, interpolation = 'nearest')\n",
    "    plt.show()\n",
    "\n",
    "# Call the function\n",
    "plot_sample(df)"
   ]
  },
  {
   "cell_type": "markdown",
   "metadata": {},
   "source": [
    "Unlike the digit dataset, kaggle has provided a testing data set with labels to use for testing the model. There will be no need to split the dataset into two seperate dataframes."
   ]
  },
  {
   "cell_type": "code",
   "execution_count": 16,
   "metadata": {},
   "outputs": [
    {
     "name": "stdout",
     "output_type": "stream",
     "text": [
      "epoch: 0, acc: 0.115, loss: 2.605, lr: 0.001\n",
      "epoch: 10, acc: 0.399, loss: 1.312, lr: 0.0009174311926605504\n",
      "epoch: 20, acc: 0.602, loss: 0.974, lr: 0.0008403361344537816\n",
      "epoch: 30, acc: 0.705, loss: 0.788, lr: 0.0007751937984496124\n",
      "epoch: 40, acc: 0.742, loss: 0.703, lr: 0.0007194244604316547\n",
      "epoch: 50, acc: 0.764, loss: 0.645, lr: 0.0006711409395973155\n",
      "epoch: 60, acc: 0.774, loss: 0.612, lr: 0.000628930817610063\n",
      "epoch: 70, acc: 0.783, loss: 0.589, lr: 0.000591715976331361\n",
      "epoch: 80, acc: 0.792, loss: 0.572, lr: 0.0005586592178770949\n",
      "epoch: 90, acc: 0.801, loss: 0.558, lr: 0.0005291005291005291\n",
      "epoch: 100, acc: 0.806, loss: 0.547, lr: 0.0005025125628140703\n",
      "epoch: 110, acc: 0.810, loss: 0.538, lr: 0.00047846889952153117\n",
      "epoch: 120, acc: 0.813, loss: 0.531, lr: 0.0004566210045662101\n",
      "epoch: 130, acc: 0.815, loss: 0.525, lr: 0.0004366812227074236\n",
      "epoch: 140, acc: 0.817, loss: 0.520, lr: 0.00041841004184100416\n",
      "epoch: 150, acc: 0.819, loss: 0.516, lr: 0.0004016064257028112\n",
      "epoch: 160, acc: 0.820, loss: 0.512, lr: 0.0003861003861003861\n",
      "epoch: 170, acc: 0.821, loss: 0.509, lr: 0.00037174721189591083\n",
      "epoch: 180, acc: 0.822, loss: 0.506, lr: 0.00035842293906810036\n",
      "epoch: 190, acc: 0.823, loss: 0.503, lr: 0.00034602076124567473\n",
      "epoch: 200, acc: 0.824, loss: 0.500, lr: 0.00033444816053511704\n",
      "epoch: 210, acc: 0.825, loss: 0.498, lr: 0.0003236245954692557\n",
      "epoch: 220, acc: 0.826, loss: 0.496, lr: 0.00031347962382445143\n",
      "epoch: 230, acc: 0.826, loss: 0.494, lr: 0.000303951367781155\n",
      "epoch: 240, acc: 0.826, loss: 0.492, lr: 0.0002949852507374631\n",
      "epoch: 250, acc: 0.827, loss: 0.490, lr: 0.00028653295128939826\n",
      "epoch: 260, acc: 0.828, loss: 0.488, lr: 0.0002785515320334262\n",
      "epoch: 270, acc: 0.828, loss: 0.487, lr: 0.0002710027100271003\n",
      "epoch: 280, acc: 0.829, loss: 0.485, lr: 0.0002638522427440633\n",
      "epoch: 290, acc: 0.829, loss: 0.484, lr: 0.0002570694087403599\n",
      "epoch: 300, acc: 0.830, loss: 0.483, lr: 0.0002506265664160401\n",
      "epoch: 310, acc: 0.830, loss: 0.481, lr: 0.0002444987775061125\n",
      "epoch: 320, acc: 0.831, loss: 0.480, lr: 0.00023866348448687357\n",
      "epoch: 330, acc: 0.831, loss: 0.479, lr: 0.0002331002331002331\n",
      "epoch: 340, acc: 0.832, loss: 0.478, lr: 0.0002277904328018223\n",
      "epoch: 350, acc: 0.832, loss: 0.477, lr: 0.00022271714922048996\n",
      "epoch: 360, acc: 0.832, loss: 0.476, lr: 0.0002178649237472767\n",
      "epoch: 370, acc: 0.833, loss: 0.475, lr: 0.00021321961620469085\n",
      "epoch: 380, acc: 0.833, loss: 0.474, lr: 0.00020876826722338206\n",
      "epoch: 390, acc: 0.833, loss: 0.473, lr: 0.00020449897750511245\n",
      "epoch: 400, acc: 0.834, loss: 0.472, lr: 0.00020040080160320639\n",
      "epoch: 410, acc: 0.834, loss: 0.472, lr: 0.00019646365422396858\n",
      "epoch: 420, acc: 0.834, loss: 0.471, lr: 0.00019267822736030826\n",
      "epoch: 430, acc: 0.834, loss: 0.470, lr: 0.0001890359168241966\n",
      "epoch: 440, acc: 0.835, loss: 0.469, lr: 0.0001855287569573284\n",
      "epoch: 450, acc: 0.835, loss: 0.469, lr: 0.00018214936247723133\n",
      "epoch: 460, acc: 0.835, loss: 0.468, lr: 0.0001788908765652952\n",
      "epoch: 470, acc: 0.835, loss: 0.467, lr: 0.00017574692442882248\n",
      "epoch: 480, acc: 0.836, loss: 0.467, lr: 0.00017271157167530224\n",
      "epoch: 490, acc: 0.836, loss: 0.466, lr: 0.00016977928692699494\n",
      "epoch: 500, acc: 0.836, loss: 0.465, lr: 0.0001669449081803005\n"
     ]
    }
   ],
   "source": [
    "# Import NN classes \n",
    "from neuralNetworkClasses.layer_dense import *\n",
    "from neuralNetworkClasses.cost_functions import *\n",
    "from neuralNetworkClasses.optimisers import *\n",
    "\n",
    "# Randomise df\n",
    "df = df.sample(frac=1)\n",
    "\n",
    "# Create training dataset\n",
    "X_train = df.iloc[:,1:]\n",
    "y_train = df.iloc[:, 0]\n",
    "\n",
    "# Convert X into a numpy array and ramdomise the dataset\n",
    "X_train = np.array(X_train)\n",
    "\n",
    "# Initiate hidden layer with 784 input values and 10 neurons\n",
    "hidden_layer = LayerDense(784, 10)\n",
    "# Initiate ReLU activation object\n",
    "relu = ActivationRelU()\n",
    "# Initiate output layer with 10 input values and 10 neurons \n",
    "output_layer = LayerDense(10, 10)\n",
    "# Initate softmax and cost functions with the ActivationSoftmaxCost object\n",
    "softmax_cost = ActivationSoftmaxCost()\n",
    "\n",
    "# Initiate optimiser object for back propagation \n",
    "sgd = Optimizer_SGD(learning_rate=0.001 ,decay=1e-2, momentum=0.9)\n",
    "\n",
    "# Train in epochs. 501 iterations.\n",
    "for epoch in range(501):\n",
    "    # Forward propagation\n",
    "    hidden_layer.forward(X_train)\n",
    "    relu.forward(hidden_layer.output)\n",
    "    output_layer.forward(relu.output)\n",
    "    \n",
    "    # Calculate error\n",
    "    cost = softmax_cost.forward(output_layer.output, y_train)\n",
    "    \n",
    "    # Calculate accuracy from output of softmax and y\n",
    "    predictions = np.argmax(softmax_cost.output, axis=1)\n",
    "    accuracy = np.mean(predictions==y_train)\n",
    "    \n",
    "    # Print statistics per set of epochs\n",
    "    if not epoch % 10:\n",
    "        print(f'epoch: {epoch}, ' +\n",
    "              f'acc: {accuracy:.3f}, ' +\n",
    "              f'loss: {cost:.3f}, ' +\n",
    "              f'lr: {sgd.current_learning_rate}')\n",
    "        \n",
    "    # Back propagation \n",
    "    softmax_cost.backward(softmax_cost.output, y_train)\n",
    "    output_layer.backward(softmax_cost.dinputs)\n",
    "    relu.backward(output_layer.dinputs)\n",
    "    hidden_layer.backward(relu.dinputs)\n",
    "    \n",
    "    # Update weights and biases\n",
    "    sgd.pre_update_params()\n",
    "    sgd.update_params(hidden_layer)\n",
    "    sgd.update_params(output_layer)\n",
    "    sgd.post_update_params()"
   ]
  },
  {
   "cell_type": "markdown",
   "metadata": {},
   "source": [
    "For this dataset, the same model used for the digit MNIST data, achieved ~83% accuracy. This can be expected as identify chothes is more complex then identifying digits. "
   ]
  },
  {
   "cell_type": "code",
   "execution_count": 17,
   "metadata": {},
   "outputs": [
    {
     "name": "stdout",
     "output_type": "stream",
     "text": [
      "test, acc: 0.833, loss: 0.478\n"
     ]
    }
   ],
   "source": [
    "# Read test dataset\n",
    "df = pd.read_csv('fashion-mnist_test.csv')\n",
    "\n",
    "# Create testing dataset\n",
    "X_test = df.iloc[:,1:]\n",
    "y_test = df.iloc[:, 0]\n",
    "\n",
    "# Pass dataset through the model using the final params\n",
    "hidden_layer.forward(X_test)\n",
    "relu.forward(hidden_layer.output)\n",
    "output_layer.forward(relu.output)\n",
    "cost = softmax_cost.forward(output_layer.output, y_test)\n",
    "\n",
    "# Calculate accuracy and loss for the test dataset\n",
    "predictions = np.argmax(softmax_cost.output, axis = 1)\n",
    "# If y_test is a binary vector, convert to scalar values\n",
    "if len(y_test.shape) == 2:\n",
    "    y_test = np.argmax(y_test, axis = 1)\n",
    "accuracy = np.mean(predictions == y_test)\n",
    "\n",
    "# Print statistics\n",
    "print(f'test, acc: {accuracy:.3f}, loss: {cost:.3f}')"
   ]
  },
  {
   "cell_type": "markdown",
   "metadata": {},
   "source": [
    "It can be concluded that major overfitting hasn't occured with 82% accuracy on the testing dataset. \n",
    "\n",
    "The MNIST fashion dataset doesn't have unseen data where there are no labels, but the model can still be used with the testing dataset to demonstrate how accurate the model can be on single samples.\n",
    "\n",
    "The labels indicate a type of clothing by its corresponding number. A dictionary can be created to be used to give the prediction a string value rather than a integer."
   ]
  },
  {
   "cell_type": "code",
   "execution_count": 22,
   "metadata": {},
   "outputs": [
    {
     "data": {
      "image/png": "[encoded data removed]",
      "text/plain": [
       "<Figure size 640x480 with 1 Axes>"
      ]
     },
     "metadata": {},
     "output_type": "display_data"
    },
    {
     "name": "stdout",
     "output_type": "stream",
     "text": [
      "The model predicted the clothing is a Coat\n"
     ]
    }
   ],
   "source": [
    "# Create dictionary to get the type of clothing using a integer key.\n",
    "mnist_labels = {\n",
    "    0: \"T-shirt/top\",\n",
    "    1: \"Trouser\",\n",
    "    2: \"Pullover\",\n",
    "    3: \"Dress\",\n",
    "    4: \"Coat\",\n",
    "    5: \"Sandal\",\n",
    "    6: \"Shirt\",\n",
    "    7: \"Sneaker\",\n",
    "    8: \"Bag\",\n",
    "    9: \"Ankle boot\"\n",
    "}\n",
    "\n",
    "# Function to generate a random sample from a dataset\n",
    "def random_sample(dataset):\n",
    "    # Gather sample\n",
    "    sample = [dataset.iloc[np.random.randint(728), 1:]]\n",
    "    # Convert to numpy array and reshape it into a 28x28 matrix\n",
    "    sample_array = np.array([sample])\n",
    "    sample_array = sample_array.reshape((28,28))\n",
    "    # Plot the sample\n",
    "    return sample, sample_array\n",
    "\n",
    "# Plot random sample from the dataset\n",
    "sample, sample_array = random_sample(df)\n",
    "plt.imshow(sample_array, interpolation = 'nearest')\n",
    "plt.show()\n",
    "\n",
    "# Convert sample into an numpy array\n",
    "sample = np.array(sample)\n",
    "\n",
    "# Need the activation softmax class as we are no longer calculating error\n",
    "softmax = ActivationSoftmax()\n",
    "\n",
    "# Pass sample to initiate forward propagation\n",
    "hidden_layer.forward(sample)\n",
    "relu.forward(hidden_layer.output)\n",
    "output_layer.forward(relu.output)\n",
    "softmax.forward(output_layer.output)\n",
    "\n",
    "# Print prediction\n",
    "print(\"The model predicted the clothing is a\", mnist_labels[np.argmax(softmax.output)])"
   ]
  },
  {
   "cell_type": "markdown",
   "metadata": {},
   "source": [
    "When comparing the prediction with the plot sample, it is even hard to identify the sample to the correct label by eye. This is strong reason why the same model had lower accuracy compared to the digit dataset"
   ]
  }
 ],
 "metadata": {
  "kernelspec": {
   "display_name": "Python 3",
   "language": "python",
   "name": "python3"
  },
  "language_info": {
   "codemirror_mode": {
    "name": "ipython",
    "version": 3
   },
   "file_extension": ".py",
   "mimetype": "text/x-python",
   "name": "python",
   "nbconvert_exporter": "python",
   "pygments_lexer": "ipython3",
   "version": "3.8.5"
  }
 },
 "nbformat": 4,
 "nbformat_minor": 4
}
