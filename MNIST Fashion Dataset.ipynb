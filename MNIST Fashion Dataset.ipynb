{
 "cells": [
  {
   "cell_type": "markdown",
   "metadata": {},
   "source": [
    "# MNIST FASHION \n",
    "\n",
    "Fashion-MNIST is a dataset of Zalando's article images—consisting of a training set of 60,000 examples and a test set of 10,000 examples. Each example is a 28x28 grayscale image, associated with a label from 10 classes. Zalando intends Fashion-MNIST to serve as a direct drop-in replacement for the original MNIST dataset for benchmarking machine learning algorithms. It shares the same image size and structure of training and testing splits.\n",
    "\n",
    "Each image is 28 pixels in height and 28 pixels in width, for a total of 784 pixels in total. Each pixel has a single pixel-value associated with it, indicating the lightness or darkness of that pixel, with higher numbers meaning darker. This pixel-value is an integer between 0 and 255. The training and test data sets have 785 columns. The first column consists of the class labels, and represents the article of clothing. The rest of the columns contain the pixel-values of the associated image."
   ]
  },
  {
   "cell_type": "code",
   "execution_count": 2,
   "metadata": {},
   "outputs": [],
   "source": [
    "# Import relevant modules for training the dataset\n",
    "import pandas as pd\n",
    "import matplotlib.pyplot as plt\n",
    "import numpy as np\n",
    "\n",
    "# Read training set using pandas\n",
    "df = pd.read_csv('fashion-mnist_train.csv')"
   ]
  },
  {
   "cell_type": "code",
   "execution_count": 3,
   "metadata": {},
   "outputs": [
    {
     "data": {
      "image/png": "[encoded data removed]",
      "text/plain": [
       "<Figure size 432x288 with 1 Axes>"
      ]
     },
     "metadata": {
      "needs_background": "light"
     },
     "output_type": "display_data"
    }
   ],
   "source": [
    "# Function to plot a random sample from a dataset\n",
    "def plot_sample(dataset):\n",
    "    # Gather sample\n",
    "    sample = [dataset.iloc[np.random.randint(728), 1:]]\n",
    "    # Convert to numpy array and reshape it into a 28x28 matrix\n",
    "    sample = np.array([sample])\n",
    "    sample = sample.reshape((28,28))\n",
    "    # Plot the sample\n",
    "    plt.gray()\n",
    "    plt.imshow(sample, interpolation = 'nearest')\n",
    "    plt.show()\n",
    "\n",
    "# Call the function\n",
    "plot_sample(df)"
   ]
  },
  {
   "cell_type": "markdown",
   "metadata": {},
   "source": [
    "Unlike the digit dataset, kaggle has provided a testing data set with labels to use for testing the model. There will be no need to split the dataset into two seperate dataframes."
   ]
  },
  {
   "cell_type": "code",
   "execution_count": 4,
   "metadata": {},
   "outputs": [
    {
     "name": "stdout",
     "output_type": "stream",
     "text": [
      "epoch: 0, acc: 0.121, loss: 2.374, lr: 0.001\n",
      "epoch: 10, acc: 0.402, loss: 1.637, lr: 0.0009990109791306607\n",
      "epoch: 20, acc: 0.597, loss: 1.182, lr: 0.0009979143589897116\n",
      "epoch: 30, acc: 0.629, loss: 1.060, lr: 0.0009968201437414647\n",
      "epoch: 40, acc: 0.571, loss: 1.041, lr: 0.0009957283254836751\n",
      "epoch: 50, acc: 0.624, loss: 0.983, lr: 0.0009946388963486806\n",
      "epoch: 60, acc: 0.643, loss: 0.895, lr: 0.000993551848503214\n",
      "epoch: 70, acc: 0.670, loss: 0.845, lr: 0.000992467174148215\n",
      "epoch: 80, acc: 0.683, loss: 0.812, lr: 0.000991384865518643\n",
      "epoch: 90, acc: 0.696, loss: 0.785, lr: 0.0009903049148832926\n",
      "epoch: 100, acc: 0.707, loss: 0.764, lr: 0.0009892273145446092\n",
      "epoch: 110, acc: 0.715, loss: 0.747, lr: 0.0009881520568385063\n",
      "epoch: 120, acc: 0.722, loss: 0.732, lr: 0.0009870791341341834\n",
      "epoch: 130, acc: 0.730, loss: 0.718, lr: 0.0009860085388339465\n",
      "epoch: 140, acc: 0.737, loss: 0.705, lr: 0.0009849402633730264\n",
      "epoch: 150, acc: 0.742, loss: 0.693, lr: 0.000983874300219404\n",
      "epoch: 160, acc: 0.747, loss: 0.683, lr: 0.0009828106418736302\n",
      "epoch: 170, acc: 0.751, loss: 0.674, lr: 0.0009817492808686518\n",
      "epoch: 180, acc: 0.755, loss: 0.665, lr: 0.000980690209769636\n",
      "epoch: 190, acc: 0.759, loss: 0.655, lr: 0.0009796334211737967\n",
      "epoch: 200, acc: 0.764, loss: 0.648, lr: 0.0009785789077102233\n",
      "epoch: 210, acc: 0.767, loss: 0.641, lr: 0.0009775266620397072\n",
      "epoch: 220, acc: 0.770, loss: 0.635, lr: 0.0009764766768545735\n",
      "epoch: 230, acc: 0.774, loss: 0.628, lr: 0.0009754289448785103\n",
      "epoch: 240, acc: 0.777, loss: 0.621, lr: 0.0009743834588664023\n",
      "epoch: 250, acc: 0.776, loss: 0.616, lr: 0.000973340211604162\n",
      "epoch: 260, acc: 0.776, loss: 0.613, lr: 0.0009722991959085651\n",
      "epoch: 270, acc: 0.779, loss: 0.607, lr: 0.0009712604046270845\n",
      "epoch: 280, acc: 0.766, loss: 0.626, lr: 0.000970223830637728\n",
      "epoch: 290, acc: 0.781, loss: 0.597, lr: 0.0009691894668488743\n",
      "epoch: 300, acc: 0.783, loss: 0.593, lr: 0.0009681573061991112\n",
      "epoch: 310, acc: 0.786, loss: 0.587, lr: 0.000967127341657076\n",
      "epoch: 320, acc: 0.787, loss: 0.584, lr: 0.0009660995662212947\n",
      "epoch: 330, acc: 0.788, loss: 0.584, lr: 0.0009650739729200244\n",
      "epoch: 340, acc: 0.794, loss: 0.575, lr: 0.0009640505548110942\n",
      "epoch: 350, acc: 0.796, loss: 0.569, lr: 0.0009630293049817507\n",
      "epoch: 360, acc: 0.792, loss: 0.574, lr: 0.0009620102165484997\n",
      "epoch: 370, acc: 0.795, loss: 0.570, lr: 0.0009609932826569543\n",
      "epoch: 380, acc: 0.801, loss: 0.564, lr: 0.0009599784964816788\n",
      "epoch: 390, acc: 0.804, loss: 0.561, lr: 0.0009589658512260378\n",
      "epoch: 400, acc: 0.806, loss: 0.555, lr: 0.0009579553401220435\n",
      "epoch: 410, acc: 0.806, loss: 0.550, lr: 0.000956946956430205\n",
      "epoch: 420, acc: 0.804, loss: 0.549, lr: 0.000955940693439379\n",
      "epoch: 430, acc: 0.801, loss: 0.552, lr: 0.0009549365444666201\n",
      "epoch: 440, acc: 0.804, loss: 0.546, lr: 0.0009539345028570338\n",
      "epoch: 450, acc: 0.806, loss: 0.542, lr: 0.0009529345619836286\n",
      "epoch: 460, acc: 0.808, loss: 0.540, lr: 0.0009519367152471704\n",
      "epoch: 470, acc: 0.806, loss: 0.546, lr: 0.0009509409560760373\n",
      "epoch: 480, acc: 0.808, loss: 0.540, lr: 0.0009499472779260752\n",
      "epoch: 490, acc: 0.809, loss: 0.536, lr: 0.0009489556742804544\n",
      "epoch: 500, acc: 0.810, loss: 0.532, lr: 0.0009479661386495274\n"
     ]
    }
   ],
   "source": [
    "# Import NN classes \n",
    "from layer_dense import *\n",
    "from cost_functions import *\n",
    "from optimisers import *\n",
    "\n",
    "# Randomise df\n",
    "df = df.sample(frac=1)\n",
    "\n",
    "# Create training dataset\n",
    "X_train = df.iloc[:,1:]\n",
    "y_train = df.iloc[:, 0]\n",
    "\n",
    "# Convert X into a numpy array and ramdomise the dataset\n",
    "X_train = np.array(X_train)\n",
    "\n",
    "# Initiate hidden layer with 784 input values and 10 neurons\n",
    "hidden_layer = LayerDense(784, 10)\n",
    "# Initiate ReLU activation object\n",
    "relu = ActivationRelU()\n",
    "# Initiate output layer with 10 input values and 10 neurons \n",
    "output_layer = LayerDense(10, 10)\n",
    "# Initate softmax and cost functions with the ActivationSoftmaxCost object\n",
    "softmax_cost = ActivationSoftmaxCost()\n",
    "\n",
    "# Initiate optimiser object for back propagation \n",
    "sgd = Optimizer_SGD(learning_rate=0.001 ,decay=1.1e-4, momentum=100)\n",
    "\n",
    "# Train in epochs. 501 iterations.\n",
    "for epoch in range(501):\n",
    "    # Forward propagation\n",
    "    hidden_layer.forward(X_train)\n",
    "    relu.forward(hidden_layer.output)\n",
    "    output_layer.forward(relu.output)\n",
    "    \n",
    "    # Calculate error\n",
    "    cost = softmax_cost.forward(output_layer.output, y_train)\n",
    "    \n",
    "    # Calculate accuracy from output of softmax and y\n",
    "    predictions = np.argmax(softmax_cost.output, axis=1)\n",
    "    accuracy = np.mean(predictions==y_train)\n",
    "    \n",
    "    # Print statistics per set of epochs\n",
    "    if not epoch % 10:\n",
    "        print(f'epoch: {epoch}, ' +\n",
    "              f'acc: {accuracy:.3f}, ' +\n",
    "              f'loss: {cost:.3f}, ' +\n",
    "              f'lr: {sgd.current_learning_rate}')\n",
    "        \n",
    "    # Back propagation \n",
    "    softmax_cost.backward(softmax_cost.output, y_train)\n",
    "    output_layer.backward(softmax_cost.dinputs)\n",
    "    relu.backward(output_layer.dinputs)\n",
    "    hidden_layer.backward(relu.dinputs)\n",
    "    \n",
    "    # Update weights and biases\n",
    "    sgd.pre_update_params()\n",
    "    sgd.update_params(hidden_layer)\n",
    "    sgd.update_params(output_layer)\n",
    "    sgd.post_update_params()"
   ]
  },
  {
   "cell_type": "markdown",
   "metadata": {},
   "source": [
    "For this dataset, the same model used for the digit MNIST data, achieved ~81% accuracy. This can be expected as identify chothes is more complex then identifying digits. "
   ]
  },
  {
   "cell_type": "code",
   "execution_count": 5,
   "metadata": {},
   "outputs": [
    {
     "name": "stdout",
     "output_type": "stream",
     "text": [
      "test, acc: 0.813, loss: 0.538\n"
     ]
    }
   ],
   "source": [
    "# Read test dataset\n",
    "df = pd.read_csv('fashion-mnist_test.csv')\n",
    "\n",
    "# Create testing dataset\n",
    "X_test = df.iloc[:,1:]\n",
    "y_test = df.iloc[:, 0]\n",
    "\n",
    "# Pass dataset through the model using the final params\n",
    "hidden_layer.forward(X_test)\n",
    "relu.forward(hidden_layer.output)\n",
    "output_layer.forward(relu.output)\n",
    "cost = softmax_cost.forward(output_layer.output, y_test)\n",
    "\n",
    "# Calculate accuracy and loss for the test dataset\n",
    "predictions = np.argmax(softmax_cost.output, axis = 1)\n",
    "# If y_test is a binary vector, convert to scalar values\n",
    "if len(y_test.shape) == 2:\n",
    "    y_test = np.argmax(y_test, axis = 1)\n",
    "accuracy = np.mean(predictions == y_test)\n",
    "\n",
    "# Print statistics\n",
    "print(f'test, acc: {accuracy:.3f}, loss: {cost:.3f}')"
   ]
  },
  {
   "cell_type": "markdown",
   "metadata": {},
   "source": [
    "It can be concluded that major overfitting hasn't occured with 82% accuracy on the testing dataset. \n",
    "\n",
    "The MNIST fashion dataset doesn't have unseen data where there are no labels, but the model can still be used with the testing dataset to demonstrate how accurate the model can be on single samples.\n",
    "\n",
    "The labels indicate a type of clothing by its corresponding number. A dictionary can be created to be used to give the prediction a string value rather than a integer."
   ]
  },
  {
   "cell_type": "code",
   "execution_count": 9,
   "metadata": {},
   "outputs": [
    {
     "data": {
      "image/png": "[encoded data removed]",
      "text/plain": [
       "<Figure size 432x288 with 1 Axes>"
      ]
     },
     "metadata": {
      "needs_background": "light"
     },
     "output_type": "display_data"
    },
    {
     "name": "stdout",
     "output_type": "stream",
     "text": [
      "The model predicted the clothing is a Coat\n"
     ]
    }
   ],
   "source": [
    "# Create dictionary to get the type of clothing using a integer key.\n",
    "mnist_labels = {\n",
    "    0: \"T-shirt/top\",\n",
    "    1: \"Trouser\",\n",
    "    2: \"Pullover\",\n",
    "    3: \"Dress\",\n",
    "    4: \"Coat\",\n",
    "    5: \"Sandal\",\n",
    "    6: \"Shirt\",\n",
    "    7: \"Sneaker\",\n",
    "    8: \"Bag\",\n",
    "    9: \"Ankle boot\"\n",
    "}\n",
    "\n",
    "# Function to generate a random sample from a dataset\n",
    "def random_sample(dataset):\n",
    "    # Gather sample\n",
    "    sample = [dataset.iloc[np.random.randint(728), 1:]]\n",
    "    # Convert to numpy array and reshape it into a 28x28 matrix\n",
    "    sample_array = np.array([sample])\n",
    "    sample_array = sample_array.reshape((28,28))\n",
    "    # Plot the sample\n",
    "    return sample, sample_array\n",
    "\n",
    "# Plot random sample from the dataset\n",
    "sample, sample_array = random_sample(df)\n",
    "plt.imshow(sample_array, interpolation = 'nearest')\n",
    "plt.show()\n",
    "\n",
    "# Convert sample into an numpy array\n",
    "sample = np.array(sample)\n",
    "\n",
    "# Need the activation softmax class as we are no longer calculating error\n",
    "softmax = ActivationSoftmax()\n",
    "\n",
    "# Pass sample to initiate forward propagation\n",
    "hidden_layer.forward(sample)\n",
    "relu.forward(hidden_layer.output)\n",
    "output_layer.forward(relu.output)\n",
    "softmax.forward(output_layer.output)\n",
    "\n",
    "# Print prediction\n",
    "print(\"The model predicted the clothing is a\", mnist_labels[np.argmax(softmax.output)])"
   ]
  },
  {
   "cell_type": "markdown",
   "metadata": {},
   "source": [
    "When comparing the prediction with the plot sample, it is even hard to identify the sample to the correct label by eye. This is strong reason why the same model had lower accuracy compared to the digit dataset"
   ]
  }
 ],
 "metadata": {
  "kernelspec": {
   "display_name": "Python 3",
   "language": "python",
   "name": "python3"
  },
  "language_info": {
   "codemirror_mode": {
    "name": "ipython",
    "version": 3
   },
   "file_extension": ".py",
   "mimetype": "text/x-python",
   "name": "python",
   "nbconvert_exporter": "python",
   "pygments_lexer": "ipython3",
   "version": "3.8.5"
  }
 },
 "nbformat": 4,
 "nbformat_minor": 4
}
