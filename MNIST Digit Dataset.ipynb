{
 "cells": [
  {
   "cell_type": "markdown",
   "metadata": {},
   "source": [
    "# MNIST Digit Dataset\n",
    "\n",
    "The MNIST digit dataset consist of 28x28 pixel hand drawn digits. Each row in the dataset consist of a sample. Each sample has 784 pixel values of 0 to 255 indicating the grey scale. This dataset will be used to train this projects neural network and another mnist digit test set will be used for validating the neural network"
   ]
  },
  {
   "cell_type": "markdown",
   "metadata": {},
   "source": [
    "![MNIST_Digits](https://storage.googleapis.com/tfds-data/visualization/fig/mnist-3.0.1.png)"
   ]
  },
  {
   "cell_type": "code",
   "execution_count": 5,
   "metadata": {},
   "outputs": [
    {
     "name": "stdout",
     "output_type": "stream",
     "text": [
      "   label  pixel0  pixel1  pixel2  pixel3  pixel4  pixel5  pixel6  pixel7  \\\n",
      "0      1       0       0       0       0       0       0       0       0   \n",
      "1      0       0       0       0       0       0       0       0       0   \n",
      "2      1       0       0       0       0       0       0       0       0   \n",
      "3      4       0       0       0       0       0       0       0       0   \n",
      "4      0       0       0       0       0       0       0       0       0   \n",
      "\n",
      "   pixel8  ...  pixel774  pixel775  pixel776  pixel777  pixel778  pixel779  \\\n",
      "0       0  ...         0         0         0         0         0         0   \n",
      "1       0  ...         0         0         0         0         0         0   \n",
      "2       0  ...         0         0         0         0         0         0   \n",
      "3       0  ...         0         0         0         0         0         0   \n",
      "4       0  ...         0         0         0         0         0         0   \n",
      "\n",
      "   pixel780  pixel781  pixel782  pixel783  \n",
      "0         0         0         0         0  \n",
      "1         0         0         0         0  \n",
      "2         0         0         0         0  \n",
      "3         0         0         0         0  \n",
      "4         0         0         0         0  \n",
      "\n",
      "[5 rows x 785 columns]\n"
     ]
    }
   ],
   "source": [
    "# Import relevant modules for training the dataset\n",
    "import pandas as pd\n",
    "import matplotlib.pyplot as plt\n",
    "import numpy as np\n",
    "\n",
    "# Read training set using pandas\n",
    "df = pd.read_csv('mnist_train.csv')\n",
    "\n",
    "# Print first 5 rows\n",
    "print(df.head())"
   ]
  },
  {
   "cell_type": "markdown",
   "metadata": {},
   "source": [
    "Each sample is a row from the dataset. Using matplotlib, a random sample from the dataset can be plotted."
   ]
  },
  {
   "cell_type": "code",
   "execution_count": 6,
   "metadata": {},
   "outputs": [
    {
     "data": {
      "image/png": "[encoded data removed]",
      "text/plain": [
       "<Figure size 640x480 with 1 Axes>"
      ]
     },
     "metadata": {},
     "output_type": "display_data"
    }
   ],
   "source": [
    "# Function to plot a random sample from a dataset\n",
    "def plot_sample(dataset):\n",
    "    # Gather sample\n",
    "    sample = [dataset.iloc[np.random.randint(728), 1:]]\n",
    "    # Convert to numpy array and reshape it into a 28x28 matrix\n",
    "    sample = np.array([sample])\n",
    "    sample = sample.reshape((28,28))\n",
    "    # Plot the sample\n",
    "    plt.gray()\n",
    "    plt.imshow(sample, interpolation = 'nearest')\n",
    "    plt.show()\n",
    "\n",
    "# Call the function\n",
    "plot_sample(df)"
   ]
  },
  {
   "cell_type": "markdown",
   "metadata": {},
   "source": [
    "To test our dataset and prevent overfitting, 20% of the data will be used for testing the model.\n",
    "\n",
    "For this neural network , there will be three layers: The input layer will consist of 784 neurons indicating the pixel value of a sample; the hidden layer will consist of 10 neurons and the output layer will consist of 10 neurons indicating each possible digit."
   ]
  },
  {
   "cell_type": "code",
   "execution_count": 7,
   "metadata": {},
   "outputs": [
    {
     "name": "stdout",
     "output_type": "stream",
     "text": [
      "epoch: 0, acc: 0.092, loss: 2.375, lr: 0.001\n",
      "epoch: 10, acc: 0.678, loss: 0.985, lr: 0.0009174311926605504\n",
      "epoch: 20, acc: 0.815, loss: 0.655, lr: 0.0008403361344537816\n",
      "epoch: 30, acc: 0.858, loss: 0.513, lr: 0.0007751937984496124\n",
      "epoch: 40, acc: 0.876, loss: 0.435, lr: 0.0007194244604316547\n",
      "epoch: 50, acc: 0.888, loss: 0.393, lr: 0.0006711409395973155\n",
      "epoch: 60, acc: 0.894, loss: 0.371, lr: 0.000628930817610063\n",
      "epoch: 70, acc: 0.899, loss: 0.357, lr: 0.000591715976331361\n",
      "epoch: 80, acc: 0.901, loss: 0.347, lr: 0.0005586592178770949\n",
      "epoch: 90, acc: 0.903, loss: 0.340, lr: 0.0005291005291005291\n",
      "epoch: 100, acc: 0.905, loss: 0.334, lr: 0.0005025125628140703\n",
      "epoch: 110, acc: 0.906, loss: 0.330, lr: 0.00047846889952153117\n",
      "epoch: 120, acc: 0.907, loss: 0.326, lr: 0.0004566210045662101\n",
      "epoch: 130, acc: 0.908, loss: 0.322, lr: 0.0004366812227074236\n",
      "epoch: 140, acc: 0.909, loss: 0.319, lr: 0.00041841004184100416\n",
      "epoch: 150, acc: 0.909, loss: 0.316, lr: 0.0004016064257028112\n",
      "epoch: 160, acc: 0.910, loss: 0.313, lr: 0.0003861003861003861\n",
      "epoch: 170, acc: 0.911, loss: 0.311, lr: 0.00037174721189591083\n",
      "epoch: 180, acc: 0.911, loss: 0.309, lr: 0.00035842293906810036\n",
      "epoch: 190, acc: 0.912, loss: 0.306, lr: 0.00034602076124567473\n",
      "epoch: 200, acc: 0.912, loss: 0.305, lr: 0.00033444816053511704\n",
      "epoch: 210, acc: 0.913, loss: 0.303, lr: 0.0003236245954692557\n",
      "epoch: 220, acc: 0.913, loss: 0.301, lr: 0.00031347962382445143\n",
      "epoch: 230, acc: 0.914, loss: 0.300, lr: 0.000303951367781155\n",
      "epoch: 240, acc: 0.914, loss: 0.298, lr: 0.0002949852507374631\n",
      "epoch: 250, acc: 0.914, loss: 0.297, lr: 0.00028653295128939826\n",
      "epoch: 260, acc: 0.915, loss: 0.295, lr: 0.0002785515320334262\n",
      "epoch: 270, acc: 0.915, loss: 0.294, lr: 0.0002710027100271003\n",
      "epoch: 280, acc: 0.916, loss: 0.293, lr: 0.0002638522427440633\n",
      "epoch: 290, acc: 0.916, loss: 0.292, lr: 0.0002570694087403599\n",
      "epoch: 300, acc: 0.917, loss: 0.291, lr: 0.0002506265664160401\n",
      "epoch: 310, acc: 0.917, loss: 0.290, lr: 0.0002444987775061125\n",
      "epoch: 320, acc: 0.917, loss: 0.289, lr: 0.00023866348448687357\n",
      "epoch: 330, acc: 0.918, loss: 0.288, lr: 0.0002331002331002331\n",
      "epoch: 340, acc: 0.918, loss: 0.287, lr: 0.0002277904328018223\n",
      "epoch: 350, acc: 0.918, loss: 0.286, lr: 0.00022271714922048996\n",
      "epoch: 360, acc: 0.918, loss: 0.285, lr: 0.0002178649237472767\n",
      "epoch: 370, acc: 0.919, loss: 0.284, lr: 0.00021321961620469085\n",
      "epoch: 380, acc: 0.919, loss: 0.283, lr: 0.00020876826722338206\n",
      "epoch: 390, acc: 0.919, loss: 0.283, lr: 0.00020449897750511245\n",
      "epoch: 400, acc: 0.919, loss: 0.282, lr: 0.00020040080160320639\n",
      "epoch: 410, acc: 0.919, loss: 0.281, lr: 0.00019646365422396858\n",
      "epoch: 420, acc: 0.920, loss: 0.281, lr: 0.00019267822736030826\n",
      "epoch: 430, acc: 0.920, loss: 0.280, lr: 0.0001890359168241966\n",
      "epoch: 440, acc: 0.920, loss: 0.279, lr: 0.0001855287569573284\n",
      "epoch: 450, acc: 0.920, loss: 0.279, lr: 0.00018214936247723133\n",
      "epoch: 460, acc: 0.920, loss: 0.278, lr: 0.0001788908765652952\n",
      "epoch: 470, acc: 0.920, loss: 0.278, lr: 0.00017574692442882248\n",
      "epoch: 480, acc: 0.921, loss: 0.277, lr: 0.00017271157167530224\n",
      "epoch: 490, acc: 0.921, loss: 0.277, lr: 0.00016977928692699494\n",
      "epoch: 500, acc: 0.921, loss: 0.276, lr: 0.0001669449081803005\n"
     ]
    }
   ],
   "source": [
    "# Import NN classes \n",
    "from neuralNetworkClasses.layer_dense import *\n",
    "from neuralNetworkClasses.cost_functions import *\n",
    "from neuralNetworkClasses.optimisers import *\n",
    "\n",
    "# Randomise df\n",
    "df = df.sample(frac=1)\n",
    "\n",
    "# Split df into training and testing data\n",
    "df_test = df[0:8400]\n",
    "df_train = df[8400:42000]\n",
    "\n",
    "# Create training dataset\n",
    "X_train = df_train.iloc[:,1:]\n",
    "y_train = df_train.iloc[:, 0]\n",
    "\n",
    "# Convert X into a numpy array and ramdomise the dataset\n",
    "X_train = np.array(X_train)\n",
    "\n",
    "# Initiate hidden layer with 784 input values and 10 neurons\n",
    "hidden_layer = LayerDense(784, 10)\n",
    "# Initiate ReLU activation object\n",
    "relu = ActivationRelU()\n",
    "# Initiate output layer with 10 input values and 10 neurons \n",
    "output_layer = LayerDense(10, 10)\n",
    "# Initate softmax and cost functions with the ActivationSoftmaxCost object\n",
    "softmax_cost = ActivationSoftmaxCost()\n",
    "\n",
    "# Initiate optimiser object for back propagation \n",
    "sgd = Optimizer_SGD(learning_rate=0.001 ,decay=1e-2, momentum=0.9)\n",
    "\n",
    "# Train in epochs. 501 iterations.\n",
    "for epoch in range(501):\n",
    "    # Forward propagation\n",
    "    hidden_layer.forward(X_train)\n",
    "    relu.forward(hidden_layer.output)\n",
    "    output_layer.forward(relu.output)\n",
    "    \n",
    "    # Calculate error\n",
    "    cost = softmax_cost.forward(output_layer.output, y_train)\n",
    "    \n",
    "    # Calculate accuracy from output of softmax and y\n",
    "    predictions = np.argmax(softmax_cost.output, axis=1)\n",
    "    accuracy = np.mean(predictions==y_train)\n",
    "    \n",
    "    # Print statistics per set of epochs\n",
    "    if not epoch % 10:\n",
    "        print(f'epoch: {epoch}, ' +\n",
    "              f'acc: {accuracy:.3f}, ' +\n",
    "              f'loss: {cost:.3f}, ' +\n",
    "              f'lr: {sgd.current_learning_rate}')\n",
    "        \n",
    "    # Back propagation \n",
    "    softmax_cost.backward(softmax_cost.output, y_train)\n",
    "    output_layer.backward(softmax_cost.dinputs)\n",
    "    relu.backward(output_layer.dinputs)\n",
    "    hidden_layer.backward(relu.dinputs)\n",
    "    \n",
    "    # Update weights and biases\n",
    "    sgd.pre_update_params()\n",
    "    sgd.update_params(hidden_layer)\n",
    "    sgd.update_params(output_layer)\n",
    "    sgd.post_update_params()"
   ]
  },
  {
   "cell_type": "markdown",
   "metadata": {},
   "source": [
    "The NN achieved ~92% accuracy with the training set. This could be improved with more iteration, another layer or more neurons in the hidden layer - provided overfitting doesn't occur.\n",
    "\n",
    "Testing data will be used to test the model using df_test dataframe created with the original dataset."
   ]
  },
  {
   "cell_type": "code",
   "execution_count": 8,
   "metadata": {},
   "outputs": [
    {
     "name": "stdout",
     "output_type": "stream",
     "text": [
      "test, acc: 0.915, loss: 0.288\n"
     ]
    }
   ],
   "source": [
    "# Create test data\n",
    "X_test = df_test.iloc[:,1:]\n",
    "y_test = df_test.iloc[:, 0]\n",
    "\n",
    "# Pass dataset through the model using the final params\n",
    "hidden_layer.forward(X_test)\n",
    "relu.forward(hidden_layer.output)\n",
    "output_layer.forward(relu.output)\n",
    "cost = softmax_cost.forward(output_layer.output, y_test)\n",
    "\n",
    "# Calculate accuracy and loss for the test dataset\n",
    "predictions = np.argmax(softmax_cost.output, axis = 1)\n",
    "# If y_test is a binary vector, convert to scalar values\n",
    "if len(y_test.shape) == 2:\n",
    "    y_test = np.argmax(y_test, axis = 1)\n",
    "accuracy = np.mean(predictions == y_test)\n",
    "\n",
    "# Print statistics\n",
    "print(f'test, acc: {accuracy:.3f}, loss: {cost:.3f}')\n"
   ]
  },
  {
   "cell_type": "markdown",
   "metadata": {},
   "source": [
    "We can conclude that our model is accurate and major overfitting has not occurred.\n",
    "\n",
    "Kaggle has also provided data that hasn't been seen and has no labels to indicate the which digit the sample is. The model can be used to predict the digit and the sample can be plotted like above to check if the model was correct."
   ]
  },
  {
   "cell_type": "code",
   "execution_count": 9,
   "metadata": {},
   "outputs": [
    {
     "name": "stdout",
     "output_type": "stream",
     "text": [
      "   pixel0  pixel1  pixel2  pixel3  pixel4  pixel5  pixel6  pixel7  pixel8  \\\n",
      "0       0       0       0       0       0       0       0       0       0   \n",
      "1       0       0       0       0       0       0       0       0       0   \n",
      "2       0       0       0       0       0       0       0       0       0   \n",
      "3       0       0       0       0       0       0       0       0       0   \n",
      "4       0       0       0       0       0       0       0       0       0   \n",
      "\n",
      "   pixel9  ...  pixel774  pixel775  pixel776  pixel777  pixel778  pixel779  \\\n",
      "0       0  ...         0         0         0         0         0         0   \n",
      "1       0  ...         0         0         0         0         0         0   \n",
      "2       0  ...         0         0         0         0         0         0   \n",
      "3       0  ...         0         0         0         0         0         0   \n",
      "4       0  ...         0         0         0         0         0         0   \n",
      "\n",
      "   pixel780  pixel781  pixel782  pixel783  \n",
      "0         0         0         0         0  \n",
      "1         0         0         0         0  \n",
      "2         0         0         0         0  \n",
      "3         0         0         0         0  \n",
      "4         0         0         0         0  \n",
      "\n",
      "[5 rows x 784 columns]\n"
     ]
    }
   ],
   "source": [
    "# Read unseen data\n",
    "df_test = pd.read_csv('mnist_test.csv')\n",
    "print(df_test.head())"
   ]
  },
  {
   "cell_type": "code",
   "execution_count": 10,
   "metadata": {},
   "outputs": [
    {
     "data": {
      "image/png": "[encoded data removed]",
      "text/plain": [
       "<Figure size 640x480 with 1 Axes>"
      ]
     },
     "metadata": {},
     "output_type": "display_data"
    },
    {
     "name": "stdout",
     "output_type": "stream",
     "text": [
      "The model predicted the digit is a 9\n"
     ]
    }
   ],
   "source": [
    "# Function to generate a random sample from a dataset\n",
    "def random_sample(dataset):\n",
    "    # Gather sample\n",
    "    sample = [dataset.iloc[np.random.randint(728)]]\n",
    "    # Convert to numpy array and reshape it into a 28x28 matrix\n",
    "    sample_array = np.array([sample])\n",
    "    sample_array = sample_array.reshape((28,28))\n",
    "    # Plot the sample\n",
    "    return sample, sample_array\n",
    "\n",
    "# Plot random sample from the dataset\n",
    "sample, sample_array = random_sample(df_test)\n",
    "plt.gray()\n",
    "plt.imshow(sample_array, interpolation = 'nearest')\n",
    "plt.show()\n",
    "\n",
    "# Convert sample into an numpy array\n",
    "sample = np.array(sample)\n",
    "\n",
    "# Need the activation softmax class as we are no longer calculating error\n",
    "softmax = ActivationSoftmax()\n",
    "\n",
    "# Pass sample to initiate forward propagation\n",
    "hidden_layer.forward(sample)\n",
    "relu.forward(hidden_layer.output)\n",
    "output_layer.forward(relu.output)\n",
    "softmax.forward(output_layer.output)\n",
    "\n",
    "print('The model predicted the digit is a', np.argmax(softmax.output))"
   ]
  },
  {
   "cell_type": "markdown",
   "metadata": {},
   "source": [
    "## Problems with the model\n",
    "\n",
    "There are many improvements that can be made to the model to improve its accuracy. The obvious implementations are more layers, more neurons, more samples and more epoch iterations. However, even implementing all of these won't major problems the model has. Such as: generalisation to the dataset, the model becoming too dependent on any neurons, co-adoption and noise. This all can be implementing with only just using numpy however.\n",
    "\n",
    "Machine learning libraries like TensorFlow and PyTorch provide handling input data in tensors rather than single vectors for each sample. This adds another layer or even layers of information to use for a neural net"
   ]
  }
 ],
 "metadata": {
  "kernelspec": {
   "display_name": "Python 3.10.7 64-bit",
   "language": "python",
   "name": "python3"
  },
  "language_info": {
   "codemirror_mode": {
    "name": "ipython",
    "version": 3
   },
   "file_extension": ".py",
   "mimetype": "text/x-python",
   "name": "python",
   "nbconvert_exporter": "python",
   "pygments_lexer": "ipython3",
   "version": "3.10.7"
  },
  "vscode": {
   "interpreter": {
    "hash": "06d3ad103a38a5e5980b0a2ddf222334b9b3630c94a7e75a8e45e8afe280f469"
   }
  }
 },
 "nbformat": 4,
 "nbformat_minor": 4
}
