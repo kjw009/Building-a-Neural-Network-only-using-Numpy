{
 "cells": [
  {
   "cell_type": "markdown",
   "metadata": {},
   "source": [
    "# Mnist Digit Dataset\n",
    "\n",
    "The MNIST digit dataset consist of 28x28 pixel hand drawn digits. Each row in the dataset consist of a sample. Each sample has 784 pixel values of 0 to 255 indicating the grey scale. This dataset will be used to train this projects neural network and another mnist digit test set will be used for validating the neural network"
   ]
  },
  {
   "cell_type": "markdown",
   "metadata": {},
   "source": [
    "![MNIST_Digits](https://storage.googleapis.com/tfds-data/visualization/fig/mnist-3.0.1.png)"
   ]
  },
  {
   "cell_type": "code",
   "execution_count": 1,
   "metadata": {},
   "outputs": [
    {
     "name": "stdout",
     "output_type": "stream",
     "text": [
      "   label  pixel0  pixel1  pixel2  pixel3  pixel4  pixel5  pixel6  pixel7  \\\n",
      "0      1       0       0       0       0       0       0       0       0   \n",
      "1      0       0       0       0       0       0       0       0       0   \n",
      "2      1       0       0       0       0       0       0       0       0   \n",
      "3      4       0       0       0       0       0       0       0       0   \n",
      "4      0       0       0       0       0       0       0       0       0   \n",
      "\n",
      "   pixel8  ...  pixel774  pixel775  pixel776  pixel777  pixel778  pixel779  \\\n",
      "0       0  ...         0         0         0         0         0         0   \n",
      "1       0  ...         0         0         0         0         0         0   \n",
      "2       0  ...         0         0         0         0         0         0   \n",
      "3       0  ...         0         0         0         0         0         0   \n",
      "4       0  ...         0         0         0         0         0         0   \n",
      "\n",
      "   pixel780  pixel781  pixel782  pixel783  \n",
      "0         0         0         0         0  \n",
      "1         0         0         0         0  \n",
      "2         0         0         0         0  \n",
      "3         0         0         0         0  \n",
      "4         0         0         0         0  \n",
      "\n",
      "[5 rows x 785 columns]\n"
     ]
    }
   ],
   "source": [
    "# Import relevant modules for training the dataset\n",
    "import pandas as pd\n",
    "import matplotlib.pyplot as plt\n",
    "import numpy as np\n",
    "\n",
    "# Read training set using pandas\n",
    "df = pd.read_csv('mnist_train.csv')\n",
    "\n",
    "# Print first 5 rows\n",
    "print(df.head())"
   ]
  },
  {
   "cell_type": "markdown",
   "metadata": {},
   "source": [
    "Each sample is a row from the dataset. Using matplotlib, a random sample from the dataset can be plotted."
   ]
  },
  {
   "cell_type": "code",
   "execution_count": 19,
   "metadata": {},
   "outputs": [
    {
     "data": {
      "image/png": "[encoded data removed]",
      "text/plain": [
       "<Figure size 432x288 with 1 Axes>"
      ]
     },
     "metadata": {
      "needs_background": "light"
     },
     "output_type": "display_data"
    }
   ],
   "source": [
    "# Function to plot a random sample from a dataset\n",
    "def plot_sample(dataset):\n",
    "    # Gather sample\n",
    "    sample = [dataset.iloc[np.random.randint(728), 1:]]\n",
    "    # Convert to numpy array and reshape it into a 28x28 matrix\n",
    "    sample = np.array([sample])\n",
    "    sample = sample.reshape((28,28))\n",
    "    # Plot the sample\n",
    "    plt.gray()\n",
    "    plt.imshow(sample, interpolation = 'nearest')\n",
    "    plt.show()\n",
    "\n",
    "# Call the function\n",
    "plot_sample(df)"
   ]
  },
  {
   "cell_type": "markdown",
   "metadata": {},
   "source": [
    "To test our dataset and prevent overfitting, 20% of the data will be used for testing the model.\n",
    "\n",
    "For this neural network , there will be three layers: The input layer will consist of 784 neurons indicating the pixel value of a sample; the hidden layer will consist of 10 neurons and the output layer will consist of 10 neurons indicating each possible digit."
   ]
  },
  {
   "cell_type": "code",
   "execution_count": 20,
   "metadata": {},
   "outputs": [
    {
     "name": "stdout",
     "output_type": "stream",
     "text": [
      "epoch: 0, acc: 0.060, loss: 2.592, lr: 0.001\n",
      "epoch: 10, acc: 0.401, loss: 1.802, lr: 0.0009990109791306607\n",
      "epoch: 20, acc: 0.622, loss: 1.244, lr: 0.0009979143589897116\n",
      "epoch: 30, acc: 0.700, loss: 0.970, lr: 0.0009968201437414647\n",
      "epoch: 40, acc: 0.742, loss: 0.829, lr: 0.0009957283254836751\n",
      "epoch: 50, acc: 0.771, loss: 0.739, lr: 0.0009946388963486806\n",
      "epoch: 60, acc: 0.792, loss: 0.675, lr: 0.000993551848503214\n",
      "epoch: 70, acc: 0.809, loss: 0.626, lr: 0.000992467174148215\n",
      "epoch: 80, acc: 0.825, loss: 0.586, lr: 0.000991384865518643\n",
      "epoch: 90, acc: 0.837, loss: 0.555, lr: 0.0009903049148832926\n",
      "epoch: 100, acc: 0.799, loss: 0.609, lr: 0.0009892273145446092\n",
      "epoch: 110, acc: 0.846, loss: 0.523, lr: 0.0009881520568385063\n",
      "epoch: 120, acc: 0.859, loss: 0.491, lr: 0.0009870791341341834\n",
      "epoch: 130, acc: 0.864, loss: 0.472, lr: 0.0009860085388339465\n",
      "epoch: 140, acc: 0.869, loss: 0.457, lr: 0.0009849402633730264\n",
      "epoch: 150, acc: 0.872, loss: 0.446, lr: 0.000983874300219404\n",
      "epoch: 160, acc: 0.875, loss: 0.436, lr: 0.0009828106418736302\n",
      "epoch: 170, acc: 0.878, loss: 0.427, lr: 0.0009817492808686518\n",
      "epoch: 180, acc: 0.880, loss: 0.419, lr: 0.000980690209769636\n",
      "epoch: 190, acc: 0.882, loss: 0.412, lr: 0.0009796334211737967\n",
      "epoch: 200, acc: 0.884, loss: 0.405, lr: 0.0009785789077102233\n",
      "epoch: 210, acc: 0.886, loss: 0.399, lr: 0.0009775266620397072\n",
      "epoch: 220, acc: 0.887, loss: 0.394, lr: 0.0009764766768545735\n",
      "epoch: 230, acc: 0.889, loss: 0.388, lr: 0.0009754289448785103\n",
      "epoch: 240, acc: 0.890, loss: 0.384, lr: 0.0009743834588664023\n",
      "epoch: 250, acc: 0.891, loss: 0.379, lr: 0.000973340211604162\n",
      "epoch: 260, acc: 0.893, loss: 0.375, lr: 0.0009722991959085651\n",
      "epoch: 270, acc: 0.894, loss: 0.372, lr: 0.0009712604046270845\n",
      "epoch: 280, acc: 0.895, loss: 0.368, lr: 0.000970223830637728\n",
      "epoch: 290, acc: 0.896, loss: 0.365, lr: 0.0009691894668488743\n",
      "epoch: 300, acc: 0.897, loss: 0.362, lr: 0.0009681573061991112\n",
      "epoch: 310, acc: 0.898, loss: 0.359, lr: 0.000967127341657076\n",
      "epoch: 320, acc: 0.899, loss: 0.356, lr: 0.0009660995662212947\n",
      "epoch: 330, acc: 0.900, loss: 0.354, lr: 0.0009650739729200244\n",
      "epoch: 340, acc: 0.900, loss: 0.351, lr: 0.0009640505548110942\n",
      "epoch: 350, acc: 0.901, loss: 0.349, lr: 0.0009630293049817507\n",
      "epoch: 360, acc: 0.902, loss: 0.346, lr: 0.0009620102165484997\n",
      "epoch: 370, acc: 0.903, loss: 0.344, lr: 0.0009609932826569543\n",
      "epoch: 380, acc: 0.903, loss: 0.342, lr: 0.0009599784964816788\n",
      "epoch: 390, acc: 0.904, loss: 0.340, lr: 0.0009589658512260378\n",
      "epoch: 400, acc: 0.904, loss: 0.338, lr: 0.0009579553401220435\n",
      "epoch: 410, acc: 0.905, loss: 0.336, lr: 0.000956946956430205\n",
      "epoch: 420, acc: 0.906, loss: 0.334, lr: 0.000955940693439379\n",
      "epoch: 430, acc: 0.906, loss: 0.332, lr: 0.0009549365444666201\n",
      "epoch: 440, acc: 0.907, loss: 0.330, lr: 0.0009539345028570338\n",
      "epoch: 450, acc: 0.907, loss: 0.328, lr: 0.0009529345619836286\n",
      "epoch: 460, acc: 0.907, loss: 0.327, lr: 0.0009519367152471704\n",
      "epoch: 470, acc: 0.908, loss: 0.325, lr: 0.0009509409560760373\n",
      "epoch: 480, acc: 0.908, loss: 0.324, lr: 0.0009499472779260752\n",
      "epoch: 490, acc: 0.909, loss: 0.322, lr: 0.0009489556742804544\n",
      "epoch: 500, acc: 0.909, loss: 0.321, lr: 0.0009479661386495274\n"
     ]
    }
   ],
   "source": [
    "# Import NN classes \n",
    "from layer_dense import *\n",
    "from cost_functions import *\n",
    "from optimisers import *\n",
    "\n",
    "# Randomise df\n",
    "df = df.sample(frac=1)\n",
    "\n",
    "# Split df into training and testing data\n",
    "df_test = df[0:8400]\n",
    "df_train = df[8400:42000]\n",
    "\n",
    "# Create training dataset\n",
    "X_train = df_train.iloc[:,1:]\n",
    "y_train = df_train.iloc[:, 0]\n",
    "\n",
    "# Convert X into a numpy array and ramdomise the dataset\n",
    "X_train = np.array(X_train)\n",
    "\n",
    "# Initiate hidden layer with 784 input values and 10 neurons\n",
    "hidden_layer = LayerDense(784, 10)\n",
    "# Initiate ReLU activation object\n",
    "relu = ActivationRelU()\n",
    "# Initiate output layer with 10 input values and 10 neurons \n",
    "output_layer = LayerDense(10, 10)\n",
    "# Initate softmax and cost functions with the ActivationSoftmaxCost object\n",
    "softmax_cost = ActivationSoftmaxCost()\n",
    "\n",
    "# Initiate optimiser object for back propagation \n",
    "sgd = Optimizer_SGD(learning_rate=0.001 ,decay=1.1e-4, momentum=100)\n",
    "\n",
    "# Train in epochs. 501 iterations.\n",
    "for epoch in range(501):\n",
    "    # Forward propagation\n",
    "    hidden_layer.forward(X_train)\n",
    "    relu.forward(hidden_layer.output)\n",
    "    output_layer.forward(relu.output)\n",
    "    \n",
    "    # Calculate error\n",
    "    cost = softmax_cost.forward(output_layer.output, y_train)\n",
    "    \n",
    "    # Calculate accuracy from output of softmax and y\n",
    "    predictions = np.argmax(softmax_cost.output, axis=1)\n",
    "    accuracy = np.mean(predictions==y_train)\n",
    "    \n",
    "    # Print statistics per set of epochs\n",
    "    if not epoch % 10:\n",
    "        print(f'epoch: {epoch}, ' +\n",
    "              f'acc: {accuracy:.3f}, ' +\n",
    "              f'loss: {cost:.3f}, ' +\n",
    "              f'lr: {sgd.current_learning_rate}')\n",
    "        \n",
    "    # Back propagation \n",
    "    softmax_cost.backward(softmax_cost.output, y_train)\n",
    "    output_layer.backward(softmax_cost.dinputs)\n",
    "    relu.backward(output_layer.dinputs)\n",
    "    hidden_layer.backward(relu.dinputs)\n",
    "    \n",
    "    # Update weights and biases\n",
    "    sgd.pre_update_params()\n",
    "    sgd.update_params(hidden_layer)\n",
    "    sgd.update_params(output_layer)\n",
    "    sgd.post_update_params()"
   ]
  },
  {
   "cell_type": "markdown",
   "metadata": {},
   "source": [
    "The NN achieved ~87% accuracy with the training set. This could be improved with more iteration, another layer or more neurons in the hidden layer - provided overfitting doesn't occur.\n",
    "\n",
    "Testing data will be used to test the model using df_test dataframe created with the original dataset."
   ]
  },
  {
   "cell_type": "code",
   "execution_count": 21,
   "metadata": {},
   "outputs": [
    {
     "name": "stdout",
     "output_type": "stream",
     "text": [
      "test, acc: 0.900, loss: 0.347\n"
     ]
    }
   ],
   "source": [
    "# Create test data\n",
    "X_test = df_test.iloc[:,1:]\n",
    "y_test = df_test.iloc[:, 0]\n",
    "\n",
    "# Pass dataset through the model using the final params\n",
    "hidden_layer.forward(X_test)\n",
    "relu.forward(hidden_layer.output)\n",
    "output_layer.forward(relu.output)\n",
    "cost = softmax_cost.forward(output_layer.output, y_test)\n",
    "\n",
    "# Calculate accuracy and loss for the test dataset\n",
    "predictions = np.argmax(softmax_cost.output, axis = 1)\n",
    "# If y_test is a binary vector, convert to scalar values\n",
    "if len(y_test.shape) == 2:\n",
    "    y_test = np.argmax(y_test, axis = 1)\n",
    "accuracy = np.mean(predictions == y_test)\n",
    "\n",
    "# Print statistics\n",
    "print(f'test, acc: {accuracy:.3f}, loss: {cost:.3f}')\n"
   ]
  },
  {
   "cell_type": "markdown",
   "metadata": {},
   "source": [
    "We can conclude that our model is accurate and major overfitting has not occurred.\n",
    "\n",
    "Kaggle has also provided data that hasn't been seen and has no labels to indicate the which digit the sample is. The model can be used to predict the digit and the sample can be plotted like above to check if the model was correct."
   ]
  },
  {
   "cell_type": "code",
   "execution_count": 22,
   "metadata": {},
   "outputs": [
    {
     "name": "stdout",
     "output_type": "stream",
     "text": [
      "   pixel0  pixel1  pixel2  pixel3  pixel4  pixel5  pixel6  pixel7  pixel8  \\\n",
      "0       0       0       0       0       0       0       0       0       0   \n",
      "1       0       0       0       0       0       0       0       0       0   \n",
      "2       0       0       0       0       0       0       0       0       0   \n",
      "3       0       0       0       0       0       0       0       0       0   \n",
      "4       0       0       0       0       0       0       0       0       0   \n",
      "\n",
      "   pixel9  ...  pixel774  pixel775  pixel776  pixel777  pixel778  pixel779  \\\n",
      "0       0  ...         0         0         0         0         0         0   \n",
      "1       0  ...         0         0         0         0         0         0   \n",
      "2       0  ...         0         0         0         0         0         0   \n",
      "3       0  ...         0         0         0         0         0         0   \n",
      "4       0  ...         0         0         0         0         0         0   \n",
      "\n",
      "   pixel780  pixel781  pixel782  pixel783  \n",
      "0         0         0         0         0  \n",
      "1         0         0         0         0  \n",
      "2         0         0         0         0  \n",
      "3         0         0         0         0  \n",
      "4         0         0         0         0  \n",
      "\n",
      "[5 rows x 784 columns]\n"
     ]
    }
   ],
   "source": [
    "# Read unseen data\n",
    "df = pd.read_csv('mnist_test.csv')\n",
    "print(df.head())"
   ]
  },
  {
   "cell_type": "code",
   "execution_count": 31,
   "metadata": {},
   "outputs": [
    {
     "data": {
      "image/png": "[encoded data removed]",
      "text/plain": [
       "<Figure size 432x288 with 1 Axes>"
      ]
     },
     "metadata": {
      "needs_background": "light"
     },
     "output_type": "display_data"
    },
    {
     "name": "stdout",
     "output_type": "stream",
     "text": [
      "The Model has predicted the digit is a 9\n"
     ]
    }
   ],
   "source": [
    "# Function to generate a random sample from a dataset\n",
    "def random_sample(dataset):\n",
    "    # Gather sample\n",
    "    sample = [dataset.iloc[np.random.randint(728)]]\n",
    "    # Convert to numpy array and reshape it into a 28x28 matrix\n",
    "    sample_array = np.array([sample])\n",
    "    sample_array = sample_array.reshape((28,28))\n",
    "    # Plot the sample\n",
    "    return sample, sample_array\n",
    "\n",
    "# Plot random sample from the dataset\n",
    "sample, sample_array = random_sample(df)\n",
    "plt.gray()\n",
    "plt.imshow(sample_array, interpolation = 'nearest')\n",
    "plt.show()\n",
    "\n",
    "# Convert sample into an numpy array\n",
    "sample = np.array(sample)\n",
    "\n",
    "# Need the activation softmax class as we are no longer calculating error\n",
    "softmax = ActivationSoftmax()\n",
    "\n",
    "# Pass sample to initiate forward propagation\n",
    "hidden_layer.forward(sample)\n",
    "relu.forward(hidden_layer.output)\n",
    "output_layer.forward(relu.output)\n",
    "softmax.forward(output_layer.output)\n",
    "\n",
    "print('The model predicted the digit is a', np.argmax(softmax.output))"
   ]
  },
  {
   "cell_type": "markdown",
   "metadata": {},
   "source": [
    "## Problems with the model\n",
    "\n",
    "There are many improvements that can be made to the model to improve its accuracy. The obvious implementations are more layers, more neurons, more samples and more epoch iterations. However, even implementing all of these won't major problems the model has. Such as: generalisation to the dataset, the model becoming too dependent on any neurons, co-adoption and noise. This all can be implementing with only just using numpy however.\n",
    "\n",
    "Machine learning libraries like TensorFlow and PyTorch provide handling input data in tensors rather than single vectors for each sample. This adds another layer or even layers of information to use for a neural net"
   ]
  }
 ],
 "metadata": {
  "kernelspec": {
   "display_name": "Python 3",
   "language": "python",
   "name": "python3"
  },
  "language_info": {
   "codemirror_mode": {
    "name": "ipython",
    "version": 3
   },
   "file_extension": ".py",
   "mimetype": "text/x-python",
   "name": "python",
   "nbconvert_exporter": "python",
   "pygments_lexer": "ipython3",
   "version": "3.8.5"
  }
 },
 "nbformat": 4,
 "nbformat_minor": 4
}
